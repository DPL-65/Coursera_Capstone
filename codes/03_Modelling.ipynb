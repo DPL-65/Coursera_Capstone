{
 "cells": [
  {
   "cell_type": "markdown",
   "id": "600bdde3",
   "metadata": {},
   "source": [
    "# <u> DATA SCIENCE PROJECT</u>:\n",
    "\n",
    "## Predicting Business Survival Rate based on London Borough\n",
    "\n",
    "### PART 3 - Modelling and Prediction\n",
    "\n",
    "<ul><li>Section 1 - Regression Model, Prediction and Evaluation</li>\n",
    "<li>Section 2 - Classification Model, Prediction and Evaluation</li></ul>"
   ]
  },
  {
   "cell_type": "code",
   "execution_count": 3,
   "id": "c9c6ec39",
   "metadata": {},
   "outputs": [],
   "source": [
    "import pandas as pd\n",
    "pd.set_option('display.max_columns', None)\n",
    "pd.set_option('display.max_rows', None)\n",
    "import numpy as np\n",
    "\n",
    "from sklearn import preprocessing\n",
    "from sklearn.model_selection import train_test_split\n",
    "from sklearn.metrics import jaccard_score"
   ]
  },
  {
   "cell_type": "markdown",
   "id": "bd6a0c07",
   "metadata": {},
   "source": [
    "Re-upload final data prepared from <b>01_Data Preparation.ipynb</b>"
   ]
  },
  {
   "cell_type": "code",
   "execution_count": 4,
   "id": "4be561e4",
   "metadata": {},
   "outputs": [
    {
     "data": {
      "text/plain": [
       "(66, 135)"
      ]
     },
     "execution_count": 4,
     "metadata": {},
     "output_type": "execute_result"
    }
   ],
   "source": [
    "df = pd.read_csv(\"/Users/dewipori/Documents/Python/IBMDataScience/CapstoneProject/DATA/FINAL_DATA/FINAL_MODEL_DATA.csv\")\n",
    "df.drop(['Unnamed: 0', 'Borough', 'Designation','year','Designation_num','Population','Borough_num'], axis=1, inplace=True)\n",
    "df['survival_rate'] = 100 - df['death_rate']\n",
    "df.shape"
   ]
  },
  {
   "cell_type": "markdown",
   "id": "343630be",
   "metadata": {},
   "source": [
    "Prepare variables for modelling:"
   ]
  },
  {
   "cell_type": "code",
   "execution_count": 5,
   "id": "f348cff3",
   "metadata": {},
   "outputs": [
    {
     "name": "stdout",
     "output_type": "stream",
     "text": [
      "Train set: (59, 132) (59,)\n",
      "Test set: (7, 132) (7,)\n"
     ]
    }
   ],
   "source": [
    "#Preparing X variables\n",
    "df_x = df.drop(['survival_rate','death_rate','survive'],axis=1)\n",
    "X = np.asarray(df_x)\n",
    "X = preprocessing.StandardScaler().fit(X).transform(X)\n",
    "\n",
    "#Preparing Y variables\n",
    "df_y = df['survival_rate']\n",
    "Y = np.asarray(df_y)\n",
    "\n",
    "#Split into train-test\n",
    "X_train, X_test, Y_train, Y_test = train_test_split( X, Y, test_size=0.1, random_state=4)\n",
    "print ('Train set:', X_train.shape,  Y_train.shape)\n",
    "print ('Test set:', X_test.shape,  Y_test.shape)"
   ]
  },
  {
   "cell_type": "markdown",
   "id": "e8acb5f6",
   "metadata": {},
   "source": [
    "## Section 1 - Regression Model: Multiple Linear Regression"
   ]
  },
  {
   "cell_type": "markdown",
   "id": "0309e676",
   "metadata": {},
   "source": [
    "Prediction Model:"
   ]
  },
  {
   "cell_type": "code",
   "execution_count": 6,
   "id": "16ff2155",
   "metadata": {},
   "outputs": [],
   "source": [
    "from sklearn import linear_model\n",
    "regr = linear_model.LinearRegression()\n",
    "regr.fit (X_train, Y_train)\n",
    "y_hat= regr.predict(X_test)\n",
    "# The coefficients\n",
    "# print ('Coefficients: ', regr.coef_)"
   ]
  },
  {
   "cell_type": "markdown",
   "id": "0aa2bdce",
   "metadata": {},
   "source": [
    "Evaluate Model:"
   ]
  },
  {
   "cell_type": "code",
   "execution_count": 8,
   "id": "ea1a9540",
   "metadata": {},
   "outputs": [
    {
     "name": "stdout",
     "output_type": "stream",
     "text": [
      "Residual sum of squares: 138.33\n",
      "Mean squared error: 0.76\n",
      "Variance score, i.e. R-Square: 0.75904\n"
     ]
    }
   ],
   "source": [
    "from sklearn.metrics import mean_squared_error\n",
    "\n",
    "print(\"Residual sum of squares: %.2f\"\n",
    "      % np.mean((y_hat - Y_test) ** 2))\n",
    "\n",
    "\n",
    "print(\"Mean squared error: %.2f\"\n",
    "      % regr.score(X,Y))\n",
    "\n",
    "# Explained variance score: 1 is perfect prediction\n",
    "print('Variance score, i.e. R-Square: %.5f' % regr.score(X, Y))"
   ]
  },
  {
   "cell_type": "markdown",
   "id": "9eb41834",
   "metadata": {},
   "source": [
    "Visualise result: Predicted value by Actual value scatterplot</li>"
   ]
  },
  {
   "cell_type": "code",
   "execution_count": 36,
   "id": "4764da2c",
   "metadata": {},
   "outputs": [],
   "source": [
    "import matplotlib.pyplot as plt"
   ]
  },
  {
   "cell_type": "code",
   "execution_count": 38,
   "id": "2ab0ae9a",
   "metadata": {},
   "outputs": [
    {
     "data": {
      "image/png": "[encoded data removed]",
      "text/plain": [
       "<Figure size 576x396 with 1 Axes>"
      ]
     },
     "metadata": {},
     "output_type": "display_data"
    }
   ],
   "source": [
    "regr.fit (X, Y)\n",
    "y_hat= regr.predict(X_train)\n",
    "plt.style.use('seaborn')\n",
    "plt.scatter(Y_train, y_hat,  color='blue')\n",
    "plt.title(\"Linear Regression: Predicted vs Actual Outcome\")\n",
    "plt.xlabel(\"Actual Value\")\n",
    "plt.ylabel(\"Predicted Value\")\n",
    "plt.show()"
   ]
  },
  {
   "cell_type": "markdown",
   "id": "7598389b",
   "metadata": {},
   "source": [
    "## Section 2 - Classification Model: Logistic Regression"
   ]
  },
  {
   "cell_type": "markdown",
   "id": "c2a23d15",
   "metadata": {},
   "source": [
    "Variable Prepration & Prediction Model:"
   ]
  },
  {
   "cell_type": "code",
   "execution_count": 53,
   "id": "861f6e2c",
   "metadata": {},
   "outputs": [
    {
     "name": "stdout",
     "output_type": "stream",
     "text": [
      "Train set: (46, 132) (46,)\n",
      "Test set: (20, 132) (20,)\n"
     ]
    }
   ],
   "source": [
    "from sklearn.linear_model import LogisticRegression\n",
    "\n",
    "#Preparing X variables\n",
    "df_x_LR = df.drop(['survival_rate','death_rate','survive'],axis=1)\n",
    "X_LR = np.asarray(df_x_LR)\n",
    "X_LR = preprocessing.StandardScaler().fit(X_LR).transform(X_LR)\n",
    "\n",
    "#Preparing Y variables\n",
    "df_y_LR = df['survive']\n",
    "Y_LR = np.asarray(df_y_LR)\n",
    "\n",
    "#Due to limited data, it is not recommended to split by train and test\n",
    "#Split into train-test\n",
    "X_trainLR, X_testLR, Y_trainLR, Y_testLR = train_test_split( X_LR, Y_LR, test_size=0.3, random_state=4)\n",
    "print ('Train set:', X_trainLR.shape,  Y_trainLR.shape)\n",
    "print ('Test set:', X_testLR.shape,  Y_testLR.shape)\n",
    "\n",
    "\n",
    "LR = LogisticRegression(C=0.01, solver='liblinear').fit(X_trainLR,Y_trainLR)\n",
    "yhatLR = LR.predict(X_testLR)\n",
    "yhat_probLR = LR.predict_proba(X_testLR)"
   ]
  },
  {
   "cell_type": "markdown",
   "id": "8e5dcf06",
   "metadata": {},
   "source": [
    "Evaluate Model:"
   ]
  },
  {
   "cell_type": "code",
   "execution_count": 54,
   "id": "c844385a",
   "metadata": {},
   "outputs": [
    {
     "name": "stdout",
     "output_type": "stream",
     "text": [
      "[[7 8]\n",
      " [1 4]]\n",
      "0.3076923076923077\n",
      "0.6816840144632687\n"
     ]
    }
   ],
   "source": [
    "from sklearn.metrics import confusion_matrix\n",
    "from sklearn.metrics import jaccard_score\n",
    "from sklearn.metrics import log_loss\n",
    "\n",
    "print(confusion_matrix(Y_testLR, yhatLR, labels=[1,0]))\n",
    "print(jaccard_score(Y_testLR, yhatLR,pos_label=0))\n",
    "print(log_loss(Y_testLR, yhat_probLR))"
   ]
  },
  {
   "cell_type": "markdown",
   "id": "fa740364",
   "metadata": {},
   "source": [
    "Visualise result: Creating a function to make grid graph of the Confusion Matrix"
   ]
  },
  {
   "cell_type": "code",
   "execution_count": 55,
   "id": "970906cc",
   "metadata": {},
   "outputs": [
    {
     "name": "stdout",
     "output_type": "stream",
     "text": [
      "[[7 8]\n",
      " [1 4]]\n"
     ]
    }
   ],
   "source": [
    "from sklearn.metrics import classification_report, confusion_matrix\n",
    "import itertools\n",
    "def plot_confusion_matrix(cm, classes,\n",
    "                          normalize=False,\n",
    "                          title='Confusion matrix',\n",
    "                          cmap=plt.cm.Blues):\n",
    "    \"\"\"\n",
    "    This function prints and plots the confusion matrix.\n",
    "    Normalization can be applied by setting `normalize=True`.\n",
    "    \"\"\"\n",
    "    if normalize:\n",
    "        cm = cm.astype('float') / cm.sum(axis=1)[:, np.newaxis]\n",
    "        print(\"Normalized confusion matrix\")\n",
    "    else:\n",
    "        print('Confusion matrix, without normalization')\n",
    "\n",
    "    print(cm)\n",
    "\n",
    "    plt.imshow(cm, interpolation='nearest', cmap=cmap)\n",
    "    plt.title(title)\n",
    "    plt.colorbar()\n",
    "    tick_marks = np.arange(len(classes))\n",
    "    plt.xticks(tick_marks, classes, rotation=45)\n",
    "    plt.yticks(tick_marks, classes)\n",
    "\n",
    "    fmt = '.2f' if normalize else 'd'\n",
    "    thresh = cm.max() / 2.\n",
    "    for i, j in itertools.product(range(cm.shape[0]), range(cm.shape[1])):\n",
    "        plt.text(j, i, format(cm[i, j], fmt),\n",
    "                 horizontalalignment=\"center\",\n",
    "                 color=\"white\" if cm[i, j] > thresh else \"black\",\n",
    "                fontsize='xx-large')\n",
    "\n",
    "    plt.tight_layout()\n",
    "    plt.ylabel('True label')\n",
    "    plt.xlabel('Predicted label')\n",
    "print(confusion_matrix(Y_testLR, yhatLR, labels=[1,0]))"
   ]
  },
  {
   "cell_type": "code",
   "execution_count": 47,
   "id": "1d481c5f",
   "metadata": {},
   "outputs": [
    {
     "name": "stdout",
     "output_type": "stream",
     "text": [
      "Confusion matrix, without normalization\n",
      "[[7 8]\n",
      " [1 4]]\n"
     ]
    },
    {
     "data": {
      "image/png": "[encoded data removed]",
      "text/plain": [
       "<Figure size 576x396 with 2 Axes>"
      ]
     },
     "metadata": {},
     "output_type": "display_data"
    }
   ],
   "source": [
    "# Compute confusion matrix\n",
    "cnf_matrix = confusion_matrix(Y_testLR, yhatLR,  labels=[1,0])\n",
    "np.set_printoptions(precision=2)\n",
    "\n",
    "# Plot non-normalized confusion matrix\n",
    "plt.figure()\n",
    "plot_confusion_matrix(cnf_matrix, classes=['Survive=1','Survive=0'],normalize= False,  title='Confusion matrix')"
   ]
  },
  {
   "cell_type": "code",
   "execution_count": null,
   "id": "112df4a5",
   "metadata": {},
   "outputs": [],
   "source": []
  }
 ],
 "metadata": {
  "kernelspec": {
   "display_name": "Python 3 (ipykernel)",
   "language": "python",
   "name": "python3"
  },
  "language_info": {
   "codemirror_mode": {
    "name": "ipython",
    "version": 3
   },
   "file_extension": ".py",
   "mimetype": "text/x-python",
   "name": "python",
   "nbconvert_exporter": "python",
   "pygments_lexer": "ipython3",
   "version": "3.9.6"
  }
 },
 "nbformat": 4,
 "nbformat_minor": 5
}
